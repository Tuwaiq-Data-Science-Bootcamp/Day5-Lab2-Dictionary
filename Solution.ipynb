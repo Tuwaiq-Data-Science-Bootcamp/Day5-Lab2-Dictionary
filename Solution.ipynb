{
 "cells": [
  {
   "cell_type": "code",
   "execution_count": 2,
   "id": "6d7c7515",
   "metadata": {},
   "outputs": [
    {
     "name": "stdout",
     "output_type": "stream",
     "text": [
      "Enter a number: 1111111112\n",
      "1111111112\n",
      "Sorry, the number is not found\n"
     ]
    }
   ],
   "source": [
    "phonebook= {\n",
    "  \"Amal\": 1111111111,\n",
    "  \"Mohammed\": 2222222222,\n",
    "  \"Khadijah\": 3333333333,\n",
    "  \"Abdullah\": 4444444444,\n",
    "  \"Rawan\": 5555555555,\n",
    "  \"Faisal\": 6666666666,\n",
    "  \"Layla\": 7777777777,\n",
    "}\n",
    "\n",
    "while(True):\n",
    "    x=input(\"Enter a number: \")\n",
    "    if(len(x)!=10):\n",
    "        print(\"This is an invalid number\")\n",
    "        continue\n",
    "    try:\n",
    "        print(int(x))\n",
    "    except ValueError:\n",
    "        print(\"This is an invalid number\")\n",
    "        continue\n",
    "    break\n",
    "    \n",
    "    \n",
    "    \n",
    "    \n",
    "flag=False\n",
    "for m in phonebook:\n",
    "    if(int(x)==int(phonebook[m])):\n",
    "        print(m)\n",
    "        flag=True\n",
    "if(flag==False):\n",
    "    print(\"Sorry, the number is not found\")\n",
    "    \n",
    "    \n",
    "    "
   ]
  }
 ],
 "metadata": {
  "kernelspec": {
   "display_name": "Python 3 (ipykernel)",
   "language": "python",
   "name": "python3"
  },
  "language_info": {
   "codemirror_mode": {
    "name": "ipython",
    "version": 3
   },
   "file_extension": ".py",
   "mimetype": "text/x-python",
   "name": "python",
   "nbconvert_exporter": "python",
   "pygments_lexer": "ipython3",
   "version": "3.9.13"
  }
 },
 "nbformat": 4,
 "nbformat_minor": 5
}
