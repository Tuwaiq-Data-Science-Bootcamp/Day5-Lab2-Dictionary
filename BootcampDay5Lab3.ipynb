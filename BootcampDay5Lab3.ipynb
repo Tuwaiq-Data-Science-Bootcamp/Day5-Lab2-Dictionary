{
 "cells": [
  {
   "cell_type": "code",
   "execution_count": 15,
   "id": "e9c5a1df",
   "metadata": {},
   "outputs": [],
   "source": [
    "y = {\n",
    "    \n",
    "    1111111111: \"amal\",\n",
    "    2222222222: \"Mohammed\",\n",
    "    3333333333:\"Khadijah\",\n",
    "    4444444444: \"Abdullah\",\n",
    "    5555555555: \"Rawan\",\n",
    "    6666666666: \"Faisal\",\n",
    "    7777777777: \"Layla\",\n",
    "    \n",
    "\n",
    "}"
   ]
  },
  {
   "cell_type": "code",
   "execution_count": 16,
   "id": "507c76d1",
   "metadata": {},
   "outputs": [
    {
     "data": {
      "text/plain": [
       "{1111111111: 'amal',\n",
       " 2222222222: 'Mohammed',\n",
       " 3333333333: 'Khadijah',\n",
       " 4444444444: 'Abdullah',\n",
       " 5555555555: 'Rawan',\n",
       " 6666666666: 'Faisal',\n",
       " 7777777777: 'Layla'}"
      ]
     },
     "execution_count": 16,
     "metadata": {},
     "output_type": "execute_result"
    }
   ],
   "source": [
    "y"
   ]
  },
  {
   "cell_type": "code",
   "execution_count": 22,
   "id": "2c001218",
   "metadata": {},
   "outputs": [
    {
     "name": "stdout",
     "output_type": "stream",
     "text": [
      "enter the phone number7777777777\n",
      "the caller name::\n",
      "Layla\n"
     ]
    }
   ],
   "source": [
    "x = int (input(\"enter the phone number\"))\n",
    "if x in y:\n",
    "    print(\"the caller name::\")\n",
    "    print(y[x] )\n",
    "elif  x != y : \n",
    "    print(\"Sorry, the number is not found\")\n",
    "elif x >10 or x != int:\n",
    "     print(\"This is invalid number\")\n",
    "    "
   ]
  },
  {
   "cell_type": "code",
   "execution_count": null,
   "id": "de9725b9",
   "metadata": {},
   "outputs": [],
   "source": []
  }
 ],
 "metadata": {
  "kernelspec": {
   "display_name": "Python 3 (ipykernel)",
   "language": "python",
   "name": "python3"
  },
  "language_info": {
   "codemirror_mode": {
    "name": "ipython",
    "version": 3
   },
   "file_extension": ".py",
   "mimetype": "text/x-python",
   "name": "python",
   "nbconvert_exporter": "python",
   "pygments_lexer": "ipython3",
   "version": "3.9.12"
  }
 },
 "nbformat": 4,
 "nbformat_minor": 5
}
