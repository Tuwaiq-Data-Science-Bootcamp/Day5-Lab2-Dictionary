{
 "cells": [
  {
   "cell_type": "code",
   "execution_count": 1,
   "id": "6bf9fe35",
   "metadata": {},
   "outputs": [
    {
     "name": "stdout",
     "output_type": "stream",
     "text": [
      "Enter number :6666666666\n",
      "Yes, It exists in dictionary Faisal\n"
     ]
    }
   ],
   "source": [
    "phoBook = {'1111111111' :'Amal' ,\n",
    "                '2222222222' : 'Mohammed',\n",
    "                 '3333333333' : 'Khadijah',\n",
    "                 '4444444444' : 'Abdullah' ,\n",
    "                 '5555555555' :'Rawan',\n",
    "                 '6666666666' : 'Faisal',\n",
    "                 '7777777777' : 'Layla'}\n",
    "Entered = input(\"Enter number :\")\n",
    "numLen = len(Entered)\n",
    "if Entered in phoBook: \n",
    "       print(f\"Yes, It exists in dictionary\",phoBook.get(Entered))\n",
    "        \n",
    "elif  (numLen != 10 or Entered == int) : \n",
    "            print (\"This is invalied input\")\n",
    "else : \n",
    "    print (\"Sorry, the number is not found\")"
   ]
  },
  {
   "cell_type": "code",
   "execution_count": 2,
   "id": "5549659a",
   "metadata": {},
   "outputs": [
    {
     "name": "stdout",
     "output_type": "stream",
     "text": [
      "Enter number :edhks2323\n",
      "This is invalied input\n"
     ]
    }
   ],
   "source": [
    "phoBook = {'1111111111' :'Amal' ,\n",
    "                '2222222222' : 'Mohammed',\n",
    "                 '3333333333' : 'Khadijah',\n",
    "                 '4444444444' : 'Abdullah' ,\n",
    "                 '5555555555' :'Rawan',\n",
    "                 '6666666666' : 'Faisal',\n",
    "                 '7777777777' : 'Layla'}\n",
    "Entered = input(\"Enter number :\")\n",
    "numLen = len(Entered)\n",
    "if Entered in phoBook: \n",
    "       print(f\"Yes, It exists in dictionary\",phoBook.get(Entered))\n",
    "        \n",
    "elif  (numLen != 10 or Entered == int) : \n",
    "            print (\"This is invalied input\")\n",
    "else : \n",
    "    print (\"Sorry, the number is not found\")"
   ]
  },
  {
   "cell_type": "code",
   "execution_count": 3,
   "id": "20e90b3e",
   "metadata": {},
   "outputs": [
    {
     "name": "stdout",
     "output_type": "stream",
     "text": [
      "Enter number :4612819301\n",
      "Sorry, the number is not found\n"
     ]
    }
   ],
   "source": [
    "phoBook = {'1111111111' :'Amal' ,\n",
    "                '2222222222' : 'Mohammed',\n",
    "                 '3333333333' : 'Khadijah',\n",
    "                 '4444444444' : 'Abdullah' ,\n",
    "                 '5555555555' :'Rawan',\n",
    "                 '6666666666' : 'Faisal',\n",
    "                 '7777777777' : 'Layla'}\n",
    "Entered = input(\"Enter number :\")\n",
    "numLen = len(Entered)\n",
    "if Entered in phoBook: \n",
    "       print(f\"Yes, It exists in dictionary\",phoBook.get(Entered))\n",
    "        \n",
    "elif  (numLen != 10 or Entered == int) : \n",
    "            print (\"This is invalied input\")\n",
    "else : \n",
    "    print (\"Sorry, the number is not found\")"
   ]
  }
 ],
 "metadata": {
  "kernelspec": {
   "display_name": "Python 3 (ipykernel)",
   "language": "python",
   "name": "python3"
  },
  "language_info": {
   "codemirror_mode": {
    "name": "ipython",
    "version": 3
   },
   "file_extension": ".py",
   "mimetype": "text/x-python",
   "name": "python",
   "nbconvert_exporter": "python",
   "pygments_lexer": "ipython3",
   "version": "3.10.5"
  }
 },
 "nbformat": 4,
 "nbformat_minor": 5
}
