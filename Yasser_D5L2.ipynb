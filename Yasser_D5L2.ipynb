{
 "cells": [
  {
   "cell_type": "code",
   "execution_count": 1,
   "metadata": {},
   "outputs": [
    {
     "name": "stdout",
     "output_type": "stream",
     "text": [
      "This is invalid input\n",
      "1111111111 Amal\n",
      "2222222222 Mohammed\n",
      "3333333333 Khadijah\n",
      "4444444444 Abdullah\n",
      "5555555555 Rawan\n",
      "6666666666 Faisal\n",
      "7777777777 Layla\n",
      "1111111111 Amal\n",
      "2222222222 Mohammed\n",
      "3333333333 Khadijah\n",
      "4444444444 Abdullah\n",
      "5555555555 Rawan\n",
      "6666666666 Faisal\n",
      "7777777777 Layla\n",
      "1231231233 Yasser\n",
      "Sorry, the number is not found\n",
      "The Name is: Yasser\n",
      "Sorry, the name is not found\n",
      "1111111111 Amal\n",
      "2222222222 Mohammed\n",
      "3333333333 Khadijah\n",
      "4444444444 Abdullah\n",
      "5555555555 Rawan\n",
      "6666666666 Faisal\n",
      "7777777777 Layla\n",
      "1231231233 Yasser\n",
      "slam\n"
     ]
    }
   ],
   "source": [
    "Phone_Book = {'1111111111': \"Amal\", '2222222222': \"Mohammed\", '3333333333': \"Khadijah\", '4444444444': \"Abdullah\",  '5555555555': \"Rawan\",  '6666666666': \"Faisal\", '7777777777': \"Layla\"}\n",
    "\n",
    "def Search_number(name: str):\n",
    "    count = 0 #name could repeat\n",
    "    for num,names in Phone_Book.items():\n",
    "        if names.lower() == name.lower():\n",
    "            print(\"The number is: \" + num)\n",
    "            count +=1\n",
    "    if count == 0:\n",
    "       print(\"Sorry, the name is not found\")\n",
    "    \n",
    "\n",
    "def Search_name(number):\n",
    "    found = Phone_Book.get(number)\n",
    "    if found != None:\n",
    "        print(\"The Name is: \" + found)\n",
    "    else:\n",
    "        print(\"Sorry, the number is not found\")\n",
    "\n",
    "\n",
    "option = -1 #to start the while\n",
    "while(option != '0'):\n",
    "    option = input('Choose: (1)-Search for a Number/Name | (2)-Add/Update Number | (3)-Show Phone Book | (0)-Exit: ')\n",
    "    #Search\n",
    "    if option == '1':\n",
    "        lookfor = input(\"Enter The Name/Number (Number must be 10 digts): \")\n",
    "        if lookfor.isnumeric() and len(lookfor) == 10:\n",
    "            Search_name(lookfor)\n",
    "        elif lookfor.isalpha():\n",
    "            Search_number(lookfor)\n",
    "        else:\n",
    "            print(\"This is invalid input\")\n",
    "    #Add/Update\n",
    "    elif option == '2':\n",
    "        new_name = input(\"Enter The Name: \")\n",
    "        new_number = input(\"Enter The Number (must be 10 digts):\")\n",
    "        if not new_name.isalpha():\n",
    "            print(\"This is invalid name \")\n",
    "        elif not new_number.isnumeric() or len(new_number) != 10:\n",
    "            print(\"This is invalid number \")\n",
    "        else:\n",
    "            Phone_Book.update({new_number: new_name})\n",
    "    #Show Phone Book\n",
    "    elif option == '3':\n",
    "        for names,nums in Phone_Book.items():\n",
    "            print(names, nums)\n",
    "    #Exit\n",
    "    elif option == '0':\n",
    "        print(\"slam\")\n",
    "    #Wrong Option\n",
    "    else:\n",
    "        print(\"invalid Option\")"
   ]
  },
  {
   "cell_type": "code",
   "execution_count": null,
   "metadata": {},
   "outputs": [],
   "source": []
  }
 ],
 "metadata": {
  "kernelspec": {
   "display_name": "Python 3.10.8 64-bit",
   "language": "python",
   "name": "python3"
  },
  "language_info": {
   "codemirror_mode": {
    "name": "ipython",
    "version": 3
   },
   "file_extension": ".py",
   "mimetype": "text/x-python",
   "name": "python",
   "nbconvert_exporter": "python",
   "pygments_lexer": "ipython3",
   "version": "3.10.8"
  },
  "orig_nbformat": 4,
  "vscode": {
   "interpreter": {
    "hash": "37790ba2a09019fe53a2f1d81386b9ad2e2158e92ef42af577a5cadc6d647896"
   }
  }
 },
 "nbformat": 4,
 "nbformat_minor": 2
}
