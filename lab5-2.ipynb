{
 "cells": [
  {
   "cell_type": "code",
   "execution_count": null,
   "id": "ed2560a5-c462-4c32-8d2b-0f05eff053b1",
   "metadata": {},
   "outputs": [],
   "source": [
    "TelephonDictionary={'Amal':'1111','Mohammad':'2222','Khadijah':'3333333333','Abdullah':'4444','Rawan':'5555','Faisal':'6666','Layla':'777777'}\n",
    "OwnNum = input('Please enter the num:')\n",
    "    \n",
    "for value in TelephonDictionary:\n",
    "        if OwnNum==value:\n",
    "            print(TelephonDictionary[value])\n",
    "            break\n",
    "        else:\n",
    "                print(\"Sorry, the number is not found\")\n",
    "        if len(OwnNum>10):\n",
    "            print('This is invalid number')\n",
    "            \n",
    "  \n",
    "               \n",
    "                                 "
   ]
  },
  {
   "cell_type": "code",
   "execution_count": null,
   "id": "e7fc175e-ac63-4507-8ec3-84be4d009366",
   "metadata": {},
   "outputs": [],
   "source": []
  },
  {
   "cell_type": "code",
   "execution_count": null,
   "id": "408a42c6-89cf-4d76-abcc-f5eb8664c03f",
   "metadata": {},
   "outputs": [],
   "source": []
  },
  {
   "cell_type": "code",
   "execution_count": null,
   "id": "30e6ae60-e57b-42e6-af88-9bc600d898ad",
   "metadata": {},
   "outputs": [],
   "source": []
  },
  {
   "cell_type": "code",
   "execution_count": null,
   "id": "c2b3f0dd-3f45-465d-b16a-3d0adef6c9b5",
   "metadata": {},
   "outputs": [],
   "source": []
  }
 ],
 "metadata": {
  "kernelspec": {
   "display_name": "Python 3 (ipykernel)",
   "language": "python",
   "name": "python3"
  },
  "language_info": {
   "codemirror_mode": {
    "name": "ipython",
    "version": 3
   },
   "file_extension": ".py",
   "mimetype": "text/x-python",
   "name": "python",
   "nbconvert_exporter": "python",
   "pygments_lexer": "ipython3",
   "version": "3.9.13"
  }
 },
 "nbformat": 4,
 "nbformat_minor": 5
}
