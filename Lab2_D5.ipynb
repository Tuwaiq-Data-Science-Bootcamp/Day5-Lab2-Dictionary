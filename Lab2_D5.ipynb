{
 "cells": [
  {
   "cell_type": "code",
   "execution_count": 4,
   "id": "8a2cfd1a",
   "metadata": {},
   "outputs": [
    {
     "name": "stdout",
     "output_type": "stream",
     "text": [
      "{'p1': {'Name': 'Amal', 'Number': 1111111111}, 'p2': {'Name': 'Mohammed', 'Number': 2222222222}, 'p3': {'Name': 'Khadijah', 'Number': 3333333333}, 'p4': {'Name': 'Abdullah', 'Number': 4444444444}, 'p5': {'Name': 'Rawan', 'Number': 5555555555}, 'p6': {'Name': 'Faisal', 'Number': 6666666666}, 'p7': {'Name': 'Layla', 'Number': 7777777777}}\n",
      "Enter phone number1111111111\n",
      "Amal\n"
     ]
    }
   ],
   "source": [
    " \n",
    "\n",
    "dict1 = {\n",
    "\n",
    "    \"p1\": {\n",
    "        \"Name\": \"Amal\",\n",
    "        \"Number\": 1111111111,\n",
    "    },\n",
    "    \n",
    "    \"p2\": {\n",
    "        \"Name\": \"Mohammed\",\n",
    "        \"Number\": 2222222222,\n",
    "    },\n",
    "    \n",
    "    \"p3\": {\n",
    "        \"Name\": \"Khadijah\",\n",
    "        \"Number\": 3333333333,\n",
    "    },\n",
    "    \n",
    "    \"p4\": {\n",
    "        \"Name\": \"Abdullah\",\n",
    "        \"Number\": 4444444444,\n",
    "    },\n",
    "    \n",
    "    \"p5\": {\n",
    "        \"Name\": \"Rawan\",\n",
    "        \"Number\": 5555555555,\n",
    "    },\n",
    "    \n",
    "    \"p6\": {\n",
    "        \"Name\": \"Faisal\",\n",
    "        \"Number\": 6666666666,\n",
    "    },\n",
    "    \n",
    "     \"p7\": {\n",
    "        \"Name\": \"Layla\",\n",
    "        \"Number\": 7777777777,\n",
    "    },\n",
    " \n",
    "}\n",
    "print(dict1)\n",
    "\n",
    "###########\n",
    "  \n",
    "userInput=input(\"Enter phone number\")\n",
    "\n",
    "\n",
    "#result= check1(userInputCast,isInt,numDigits)\n",
    "\n",
    "if(userInput.isnumeric()): \n",
    "    userInputCast=int(userInput)  \n",
    "    isInt = isinstance(userInputCast, int)\n",
    "    numDigits= len(str(userInputCast))\n",
    "     \n",
    "     \n",
    "    \n",
    "    if (isInt == True and userInputCast>=0 and numDigits!=10):\n",
    "        print(\"This is invalid number\")\n",
    "    \n",
    "    elif (isInt == True and userInputCast>=0 and numDigits==10):\n",
    "        for d in dict1.values():\n",
    "            if d['Number'] == userInputCast:\n",
    "                print(d['Name']) \n",
    "                break\n",
    "            if['Number'] != userInputCast and list(dict1)[-1]!='p7':\n",
    "                print(list(dict1)[-1])\n",
    "                continue\n",
    "            if list(dict1)[-1]=='p7': \n",
    "                print(\"Sorry, the number is not found\")\n",
    "                break\n",
    "else:\n",
    "       print(\"This is invalid number\")"
   ]
  },
  {
   "cell_type": "code",
   "execution_count": null,
   "id": "0b947474",
   "metadata": {},
   "outputs": [],
   "source": []
  }
 ],
 "metadata": {
  "kernelspec": {
   "display_name": "Python 3 (ipykernel)",
   "language": "python",
   "name": "python3"
  },
  "language_info": {
   "codemirror_mode": {
    "name": "ipython",
    "version": 3
   },
   "file_extension": ".py",
   "mimetype": "text/x-python",
   "name": "python",
   "nbconvert_exporter": "python",
   "pygments_lexer": "ipython3",
   "version": "3.9.13"
  }
 },
 "nbformat": 4,
 "nbformat_minor": 5
}
