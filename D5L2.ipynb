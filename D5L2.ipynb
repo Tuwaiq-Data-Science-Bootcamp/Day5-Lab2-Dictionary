{
 "cells": [
  {
   "cell_type": "code",
   "execution_count": 3,
   "metadata": {},
   "outputs": [
    {
     "name": "stdout",
     "output_type": "stream",
     "text": [
      "['Amal', 'Mohammed', 'Khadijah', 'Abdullah', 'Rawan', 'Faisal', 'Layla'] [1111111111, 2222222222, 3333333333, 4444444444, 5555555555, 6666666666, 7777777777]\n"
     ]
    }
   ],
   "source": [
    "dict = {\n",
    "    \"Amal\":1111111111,\n",
    "    \"Mohammed\":2222222222,\n",
    "    \"Khadijah\":3333333333,\n",
    "    \"Abdullah\":4444444444,\n",
    "    \"Rawan\":5555555555,\n",
    "    \"Faisal\":6666666666,\n",
    "    \"Layla\":7777777777,    \n",
    "}\n",
    "Klist = list(dict.keys())\n",
    "vlist = list(dict.values())\n",
    "print(Klist,vlist )"
   ]
  },
  {
   "cell_type": "code",
   "execution_count": null,
   "metadata": {},
   "outputs": [],
   "source": [
    "dict = {\n",
    "    \"Amal\":1111111111,\n",
    "    \"Mohammed\":2222222222,\n",
    "    \"Khadijah\":3333333333,\n",
    "    \"Abdullah\":4444444444,\n",
    "    \"Rawan\":5555555555,\n",
    "    \"Faisal\":6666666666,\n",
    "    \"Layla\":7777777777,    \n",
    "}\n",
    "Klist = list(dict.keys())\n",
    "vlist = list(dict.values())\n",
    "while True:\n",
    "    x= int(input(\"Please Enter The Number:\"))\n",
    "    for i in vlist:\n",
    "        if i == range(x):\n",
    "            print(vlist[i])\n",
    "        elif len(str(x))>10:\n",
    "            print(\"this is invalid number\")\n",
    "        elif len(str(x))<10:\n",
    "            print(\"this invalid number\")\n",
    "        elif x not in vlist:\n",
    "            print(\"invalid\")"
   ]
  },
  {
   "cell_type": "code",
   "execution_count": null,
   "metadata": {},
   "outputs": [],
   "source": []
  },
  {
   "cell_type": "code",
   "execution_count": null,
   "metadata": {},
   "outputs": [],
   "source": []
  }
 ],
 "metadata": {
  "kernelspec": {
   "display_name": "Python 3",
   "language": "python",
   "name": "python3"
  }
 },
 "nbformat": 4,
 "nbformat_minor": 2
}
