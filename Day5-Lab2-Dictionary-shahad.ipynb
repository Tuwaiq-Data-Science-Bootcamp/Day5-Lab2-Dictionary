{
 "cells": [
  {
   "cell_type": "code",
   "execution_count": 1,
   "id": "eed57cab",
   "metadata": {},
   "outputs": [],
   "source": [
    "dic={1111111111:'Amal',2222222222:'Mohammed', 3333333333:'Khadijah',4444444444:'Abdullah',5555555555:'Rawan' , 6666666666:'Faisal', 7777777777:'Layla'}"
   ]
  },
  {
   "cell_type": "code",
   "execution_count": 2,
   "id": "694ed933",
   "metadata": {},
   "outputs": [],
   "source": [
    "dicdf={'Name':['Amal','Mohammed', 'Khadijah','Abdullah','Rawan', 'Faisal', 'Layla'], 'Number':[1111111111,2222222222,3333333333,4444444444,5555555555,6666666666,7777777777]}\n"
   ]
  },
  {
   "cell_type": "code",
   "execution_count": 3,
   "id": "a61b83c1",
   "metadata": {},
   "outputs": [],
   "source": [
    "import pandas as pd"
   ]
  },
  {
   "cell_type": "code",
   "execution_count": 4,
   "id": "9b282141",
   "metadata": {},
   "outputs": [
    {
     "data": {
      "text/html": [
       "<div>\n",
       "<style scoped>\n",
       "    .dataframe tbody tr th:only-of-type {\n",
       "        vertical-align: middle;\n",
       "    }\n",
       "\n",
       "    .dataframe tbody tr th {\n",
       "        vertical-align: top;\n",
       "    }\n",
       "\n",
       "    .dataframe thead th {\n",
       "        text-align: right;\n",
       "    }\n",
       "</style>\n",
       "<table border=\"1\" class=\"dataframe\">\n",
       "  <thead>\n",
       "    <tr style=\"text-align: right;\">\n",
       "      <th></th>\n",
       "      <th>Name</th>\n",
       "      <th>Number</th>\n",
       "    </tr>\n",
       "  </thead>\n",
       "  <tbody>\n",
       "    <tr>\n",
       "      <th>0</th>\n",
       "      <td>Amal</td>\n",
       "      <td>1111111111</td>\n",
       "    </tr>\n",
       "    <tr>\n",
       "      <th>1</th>\n",
       "      <td>Mohammed</td>\n",
       "      <td>2222222222</td>\n",
       "    </tr>\n",
       "    <tr>\n",
       "      <th>2</th>\n",
       "      <td>Khadijah</td>\n",
       "      <td>3333333333</td>\n",
       "    </tr>\n",
       "    <tr>\n",
       "      <th>3</th>\n",
       "      <td>Abdullah</td>\n",
       "      <td>4444444444</td>\n",
       "    </tr>\n",
       "    <tr>\n",
       "      <th>4</th>\n",
       "      <td>Rawan</td>\n",
       "      <td>5555555555</td>\n",
       "    </tr>\n",
       "    <tr>\n",
       "      <th>5</th>\n",
       "      <td>Faisal</td>\n",
       "      <td>6666666666</td>\n",
       "    </tr>\n",
       "    <tr>\n",
       "      <th>6</th>\n",
       "      <td>Layla</td>\n",
       "      <td>7777777777</td>\n",
       "    </tr>\n",
       "  </tbody>\n",
       "</table>\n",
       "</div>"
      ],
      "text/plain": [
       "       Name      Number\n",
       "0      Amal  1111111111\n",
       "1  Mohammed  2222222222\n",
       "2  Khadijah  3333333333\n",
       "3  Abdullah  4444444444\n",
       "4     Rawan  5555555555\n",
       "5    Faisal  6666666666\n",
       "6     Layla  7777777777"
      ]
     },
     "execution_count": 4,
     "metadata": {},
     "output_type": "execute_result"
    }
   ],
   "source": [
    "df = pd.DataFrame(dicdf)  \n",
    "df"
   ]
  },
  {
   "cell_type": "code",
   "execution_count": null,
   "id": "c4967927",
   "metadata": {},
   "outputs": [],
   "source": []
  },
  {
   "cell_type": "markdown",
   "id": "690753ee",
   "metadata": {},
   "source": [
    "### If the number exists, print the owner. Otherwise, print \"Sorry, the number is not found\".\n",
    "### If the number is less or more than 10 numbers, print \"This is invalid number\".\n",
    "### If the number contains letters or symbols, print \"This is invalid number\"."
   ]
  },
  {
   "cell_type": "code",
   "execution_count": 11,
   "id": "2a33558b",
   "metadata": {},
   "outputs": [
    {
     "name": "stdout",
     "output_type": "stream",
     "text": [
      "enter a phone number 2222222222\n"
     ]
    },
    {
     "data": {
      "text/plain": [
       "10"
      ]
     },
     "execution_count": 11,
     "metadata": {},
     "output_type": "execute_result"
    }
   ],
   "source": [
    "num=input('enter a phone number ')\n",
    "# num=int(num)\n",
    "length=len(num)\n",
    "length"
   ]
  },
  {
   "cell_type": "code",
   "execution_count": 12,
   "id": "ca5d5a68",
   "metadata": {},
   "outputs": [
    {
     "name": "stdout",
     "output_type": "stream",
     "text": [
      "Mohammed\n"
     ]
    }
   ],
   "source": [
    "if length > 10 or length < 10:\n",
    "    print('This is invalid number, less or higher than 10')\n",
    "elif not num.isdigit():\n",
    "    print('This is invalid number, it contains letters')\n",
    "elif int(num) in dic.keys():\n",
    "    print(dic[int(num)])\n",
    "else:\n",
    "    print('Sorry, the number is not found')\n"
   ]
  },
  {
   "cell_type": "code",
   "execution_count": null,
   "id": "543c0917",
   "metadata": {},
   "outputs": [],
   "source": []
  }
 ],
 "metadata": {
  "kernelspec": {
   "display_name": "Python 3",
   "language": "python",
   "name": "python3"
  },
  "language_info": {
   "codemirror_mode": {
    "name": "ipython",
    "version": 3
   },
   "file_extension": ".py",
   "mimetype": "text/x-python",
   "name": "python",
   "nbconvert_exporter": "python",
   "pygments_lexer": "ipython3",
   "version": "3.8.5"
  }
 },
 "nbformat": 4,
 "nbformat_minor": 5
}
